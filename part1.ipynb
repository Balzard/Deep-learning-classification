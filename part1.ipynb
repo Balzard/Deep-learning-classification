{
 "metadata": {
  "language_info": {
   "codemirror_mode": {
    "name": "ipython",
    "version": 3
   },
   "file_extension": ".py",
   "mimetype": "text/x-python",
   "name": "python",
   "nbconvert_exporter": "python",
   "pygments_lexer": "ipython3",
   "version": "3.7.7"
  },
  "orig_nbformat": 2,
  "kernelspec": {
   "name": "python377jvsc74a57bd0f3aabb56ceede8bbce4061734790a50077821e4e2e3353160b6deb4f0667efe9",
   "display_name": "Python 3.7.7 64-bit"
  },
  "metadata": {
   "interpreter": {
    "hash": "f3aabb56ceede8bbce4061734790a50077821e4e2e3353160b6deb4f0667efe9"
   }
  }
 },
 "nbformat": 4,
 "nbformat_minor": 2,
 "cells": [
  {
   "cell_type": "code",
   "execution_count": 67,
   "metadata": {},
   "outputs": [],
   "source": [
    "import numpy as np \n",
    "import math"
   ]
  },
  {
   "cell_type": "code",
   "execution_count": 68,
   "metadata": {},
   "outputs": [],
   "source": [
    "def relu(input):\n",
    "    if input > 0:\n",
    "        return input\n",
    "    else:\n",
    "        return 0"
   ]
  },
  {
   "cell_type": "code",
   "execution_count": 69,
   "metadata": {},
   "outputs": [],
   "source": [
    "def sigmoid(x):\n",
    "  return 1 / (1 + math.exp(-x))"
   ]
  },
  {
   "cell_type": "code",
   "execution_count": 70,
   "metadata": {},
   "outputs": [],
   "source": [
    "x1 = np.array([0,0])\n",
    "x2 = np.array([0,1])\n",
    "x3 = np.array([1,0])\n",
    "x4 = np.array([1,1])\n",
    "y = np.array([0,1,1,0])\n",
    "y1 = 0\n",
    "y2 = 1\n",
    "y3 = 1\n",
    "y4 = 0\n",
    "w = np.array([[0.79,0.87],[1.34,1.08]])\n",
    "b = np.array([0.1,-1.12])\n",
    "wy = np.array([0.68,-2.01])\n",
    "by = -0.3"
   ]
  },
  {
   "cell_type": "code",
   "execution_count": 71,
   "metadata": {},
   "outputs": [],
   "source": [
    "def forward(weights, bias,weight_y, bias_y,x):\n",
    "    a1 = bias[0] + np.dot(weights[0],x)\n",
    "    a2 = bias[1] + np.dot(weights[1],x)\n",
    "    h1 = relu(a1)\n",
    "    h2 = relu(a2)\n",
    "    y = sigmoid(by + np.dot(wy,np.array([h1,h2])))\n",
    "    return y"
   ]
  },
  {
   "cell_type": "code",
   "execution_count": 72,
   "metadata": {},
   "outputs": [
    {
     "output_type": "stream",
     "name": "stdout",
     "text": [
      "0.44225875669051\n0.5889436018907238\n0.465803469499505\n0.1523612754212008\n"
     ]
    }
   ],
   "source": [
    "yh = np.array([])\n",
    "for i in [x1,x2,x3,x4]:\n",
    "    yh = np.append(yh,forward(w,b,wy,by,i))\n",
    "    print(forward(w,b,wy,by,i))"
   ]
  },
  {
   "cell_type": "code",
   "execution_count": 73,
   "metadata": {},
   "outputs": [],
   "source": [
    "def cross_entropy_loss(y,y_hat):\n",
    "    sum = 0\n",
    "    for i in range(len(y_hat)):\n",
    "        sum -= (y[i] * math.log(y_hat[i])) + ((1-y[i])* math.log(1-y_hat[i]))\n",
    "    return sum"
   ]
  },
  {
   "cell_type": "code",
   "execution_count": 74,
   "metadata": {},
   "outputs": [
    {
     "output_type": "stream",
     "name": "stdout",
     "text": [
      "[0 1 1 0]\n[0.44225876 0.5889436  0.46580347 0.15236128]\n"
     ]
    }
   ],
   "source": [
    "print(y)\n",
    "print(yh)"
   ]
  },
  {
   "cell_type": "code",
   "execution_count": 75,
   "metadata": {},
   "outputs": [
    {
     "output_type": "stream",
     "name": "stdout",
     "text": [
      "2.042577237432488\n"
     ]
    }
   ],
   "source": [
    "print(cross_entropy_loss(y,yh))"
   ]
  },
  {
   "source": [
    "# Question 4"
   ],
   "cell_type": "markdown",
   "metadata": {}
  },
  {
   "cell_type": "code",
   "execution_count": 7,
   "metadata": {},
   "outputs": [
    {
     "output_type": "stream",
     "name": "stdout",
     "text": [
      "0.24883036\n"
     ]
    }
   ],
   "source": [
    "def transfer_derivative(output):\n",
    "\treturn output * (1.0 - output)\n",
    "\n",
    "print(transfer_derivative(0.4658))"
   ]
  },
  {
   "source": [
    "# Question 5"
   ],
   "cell_type": "markdown",
   "metadata": {}
  },
  {
   "cell_type": "code",
   "execution_count": null,
   "metadata": {},
   "outputs": [],
   "source": []
  },
  {
   "cell_type": "code",
   "execution_count": null,
   "metadata": {},
   "outputs": [],
   "source": []
  },
  {
   "cell_type": "code",
   "execution_count": 26,
   "metadata": {},
   "outputs": [
    {
     "output_type": "error",
     "ename": "IndentationError",
     "evalue": "unindent does not match any outer indentation level (<tokenize>, line 33)",
     "traceback": [
      "\u001b[1;36m  File \u001b[1;32m\"<tokenize>\"\u001b[1;36m, line \u001b[1;32m33\u001b[0m\n\u001b[1;33m    if neuron == layer[-1]:\u001b[0m\n\u001b[1;37m    ^\u001b[0m\n\u001b[1;31mIndentationError\u001b[0m\u001b[1;31m:\u001b[0m unindent does not match any outer indentation level\n"
     ]
    }
   ],
   "source": [
    "from math import exp\n",
    "from random import seed\n",
    "from random import random\n",
    "\n",
    "def initialize_network(n_inputs, n_hidden, n_outputs):\n",
    "\tnetwork = list()\n",
    "\thidden_layer = [[0.79,0.87],[1.34,1.08],[0.10,-1.12]]\n",
    "\tnetwork.append(hidden_layer)\n",
    "\toutput_layer = [0.68,-2.01,-0.3]\n",
    "\tnetwork.append(output_layer)\n",
    "\treturn network\n",
    "\n",
    "def activate(weights, inputs):\n",
    "\tactivation = weights[-1]\n",
    "\tfor i in range(len(weights)-1):\n",
    "\t\tactivation += weights[i] * inputs[i]\n",
    "\treturn activation\n",
    "\n",
    "def transfer_output(activation):\n",
    "\treturn 1.0 / (1.0 + exp(-activation))\n",
    "\n",
    "def transfert(activation):\n",
    "    if input > 0:\n",
    "        return activation\n",
    "    else:\n",
    "        return 0\n",
    "\n",
    "def forward_propagate(network, row):\n",
    "\tinputs = row\n",
    "\tfor layer in network:\n",
    "\t\tnew_inputs = []\n",
    "\t\tfor neuron in layer:\n",
    "            if neuron == layer[-1]:\n",
    "\t\t\t    activation = activate(neuron['weights'], inputs)\n",
    "                neuron['output'] = transfer_output(activation)\n",
    "                new_inputs.append(neuron['output'])\n",
    "            else :\n",
    "                activation = activate(neuron['weights'], inputs)\n",
    "                neuron['output'] = transfer(activation)\n",
    "                new_inputs.append(neuron['output'])\n",
    "\t\tinputs = new_inputs\n",
    "\treturn inputs"
   ]
  },
  {
   "cell_type": "code",
   "execution_count": 17,
   "metadata": {},
   "outputs": [
    {
     "output_type": "stream",
     "name": "stdout",
     "text": [
      "[0.7278964644849244]\n"
     ]
    }
   ],
   "source": [
    "t = initialize_network(2,1,1)\n",
    "out = forward_propagate(t, [1,0])\n",
    "print(out)"
   ]
  },
  {
   "cell_type": "code",
   "execution_count": null,
   "metadata": {},
   "outputs": [],
   "source": []
  }
 ]
}