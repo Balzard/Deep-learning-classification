{
 "metadata": {
  "language_info": {
   "codemirror_mode": {
    "name": "ipython",
    "version": 3
   },
   "file_extension": ".py",
   "mimetype": "text/x-python",
   "name": "python",
   "nbconvert_exporter": "python",
   "pygments_lexer": "ipython3",
   "version": "3.8.6"
  },
  "orig_nbformat": 2,
  "kernelspec": {
   "name": "python38664bit17f454c99af3482aa33787252d2f9923",
   "display_name": "Python 3.8.6 64-bit"
  },
  "metadata": {
   "interpreter": {
    "hash": "767d51c1340bd893661ea55ea3124f6de3c7a262a8b4abca0554b478b1e2ff90"
   }
  }
 },
 "nbformat": 4,
 "nbformat_minor": 2,
 "cells": [
  {
   "cell_type": "code",
   "execution_count": 805,
   "metadata": {},
   "outputs": [],
   "source": [
    "import numpy as np \n",
    "import math"
   ]
  },
  {
   "cell_type": "code",
   "execution_count": 806,
   "metadata": {},
   "outputs": [],
   "source": [
    "def relu(input):\n",
    "    if input > 0:\n",
    "        return input\n",
    "    else:\n",
    "        return 0"
   ]
  },
  {
   "cell_type": "code",
   "execution_count": 807,
   "metadata": {},
   "outputs": [],
   "source": [
    "def sigmoid(x):\n",
    "  return 1 / (1 + math.exp(-x))"
   ]
  },
  {
   "cell_type": "code",
   "execution_count": 808,
   "metadata": {},
   "outputs": [],
   "source": [
    "x1 = np.array([0,0])\n",
    "x2 = np.array([0,1])\n",
    "x3 = np.array([1,0])\n",
    "x4 = np.array([1,1])\n",
    "y = np.array([0,1,1,0])\n",
    "y1 = 0\n",
    "y2 = 1\n",
    "y3 = 1\n",
    "y4 = 0\n",
    "w = np.array([[0.79,0.87],[1.34,1.08]])\n",
    "b = np.array([0.1,-1.12])\n",
    "wy = np.array([0.68,-2.01])\n",
    "by = -0.3"
   ]
  },
  {
   "cell_type": "code",
   "execution_count": 809,
   "metadata": {},
   "outputs": [],
   "source": [
    "def forward(weights, bias,weight_y, bias_y,x):\n",
    "    a1 = bias[0] + np.dot(weights[0],x)\n",
    "    a2 = bias[1] + np.dot(weights[1],x)\n",
    "    h1 = relu(a1)\n",
    "    h2 = relu(a2)\n",
    "    a3 = by + np.dot(wy,np.array([h1,h2]))\n",
    "    y = sigmoid(a3)\n",
    "    return y, a1, a2, a3, h1, h2"
   ]
  },
  {
   "cell_type": "code",
   "execution_count": 810,
   "metadata": {},
   "outputs": [
    {
     "output_type": "stream",
     "name": "stdout",
     "text": [
      "(0.44225875669051, 0.1, -1.12, -0.23199999999999998, 0.1, 0)\n(0.5889436018907238, 0.97, -0.040000000000000036, 0.3596000000000001, 0.97, 0)\n(0.465803469499505, 0.89, 0.21999999999999997, -0.13699999999999984, 0.89, 0.21999999999999997)\n(0.1523612754212008, 1.7600000000000002, 1.2999999999999998, -1.7161999999999993, 1.7600000000000002, 1.2999999999999998)\n[0.44225876 0.5889436  0.46580347 0.15236128]\n"
     ]
    }
   ],
   "source": [
    "yh = np.array([])\n",
    "for i in [x1,x2,x3,x4]:\n",
    "    yh = np.append(yh,forward(w,b,wy,by,i)[0])\n",
    "    print(forward(w,b,wy,by,i))\n",
    "print(yh)"
   ]
  },
  {
   "cell_type": "code",
   "execution_count": 811,
   "metadata": {},
   "outputs": [],
   "source": [
    "def cross_entropy_loss(y,y_hat):\n",
    "    sum = 0\n",
    "    for i in range(len(y_hat)):\n",
    "        sum -= (y[i] * math.log(y_hat[i])) + ((1-y[i])* math.log(1-y_hat[i]))\n",
    "    return sum"
   ]
  },
  {
   "cell_type": "code",
   "execution_count": 812,
   "metadata": {},
   "outputs": [
    {
     "output_type": "stream",
     "name": "stdout",
     "text": [
      "[0 1 1 0]\n[0.44225876 0.5889436  0.46580347 0.15236128]\n"
     ]
    }
   ],
   "source": [
    "print(y)\n",
    "print(yh)"
   ]
  },
  {
   "cell_type": "code",
   "execution_count": 813,
   "metadata": {},
   "outputs": [
    {
     "output_type": "stream",
     "name": "stdout",
     "text": [
      "2.042577237432488\n"
     ]
    }
   ],
   "source": [
    "print(cross_entropy_loss(y,yh))"
   ]
  },
  {
   "source": [
    "# Question 4"
   ],
   "cell_type": "markdown",
   "metadata": {}
  },
  {
   "cell_type": "code",
   "execution_count": 814,
   "metadata": {},
   "outputs": [
    {
     "output_type": "stream",
     "name": "stdout",
     "text": [
      "0.24883036\n"
     ]
    }
   ],
   "source": [
    "def transfer_derivative(output):\n",
    "\treturn output * (1.0 - output)\n",
    "\n",
    "print(transfer_derivative(0.4658))"
   ]
  },
  {
   "cell_type": "code",
   "execution_count": 815,
   "metadata": {},
   "outputs": [],
   "source": [
    "def relu_der(input):\n",
    "    if input >= 0:\n",
    "        return 1\n",
    "    if input < 0:\n",
    "        return 0"
   ]
  },
  {
   "source": [
    "# Question 5"
   ],
   "cell_type": "markdown",
   "metadata": {}
  },
  {
   "cell_type": "code",
   "execution_count": 816,
   "metadata": {},
   "outputs": [],
   "source": [
    "y_hat, a1, a2, a3, h1, h2 = forward(w,b,wy,by,x3)\n",
    "J_yhat = -1/y_hat\n",
    "g = J_yhat\n",
    "J_a3 = g * transfer_derivative(a3)\n",
    "g = J_a3\n",
    "J_bk = g \n",
    "J_wk = np.dot(g,np.array([h1,h2]).T)\n",
    "G_hk = np.dot(np.array(wy).T,g)\n",
    "g = G_hk"
   ]
  },
  {
   "cell_type": "code",
   "execution_count": 817,
   "metadata": {},
   "outputs": [
    {
     "output_type": "stream",
     "name": "stdout",
     "text": [
      "[ 0.19828455 -0.12894328]\n[0.19828455 0.        ]\n[-0.12894328  0.        ]\n"
     ]
    }
   ],
   "source": [
    "J_a1a2 = np.multiply(g,np.array([relu_der(a1), relu(a2)]).T)\n",
    "g = J_a1a2\n",
    "J_b1 = g\n",
    "J_w11w12 = np.dot(g[0],x3)\n",
    "J_w13w14 = np.dot(g[1],x3)\n",
    "print(J_a1a2)\n",
    "print(J_w11w12)\n",
    "print(J_w13w14)"
   ]
  },
  {
   "cell_type": "code",
   "execution_count": 818,
   "metadata": {},
   "outputs": [],
   "source": [
    "n = 0.2\n",
    "wy = wy - np.dot(n,J_wk)\n",
    "by = by - n*J_bk\n",
    "w1 = w - np.dot(n,np.array([J_w11w12, J_w13w14]))\n",
    "b1 = b - np.dot(n,J_b1)"
   ]
  },
  {
   "cell_type": "code",
   "execution_count": 819,
   "metadata": {},
   "outputs": [
    {
     "output_type": "stream",
     "name": "stdout",
     "text": [
      "[ 0.6280961  -2.02283018]\n-0.3583189860308744\n[[0.75034309 0.87      ]\n [1.36578866 1.08      ]]\n[ 0.06034309 -1.09421134]\n"
     ]
    }
   ],
   "source": [
    "print(wy)\n",
    "print(by)\n",
    "print(w1)\n",
    "print(b1)"
   ]
  },
  {
   "cell_type": "code",
   "execution_count": 820,
   "metadata": {},
   "outputs": [
    {
     "output_type": "stream",
     "name": "stdout",
     "text": [
      "0.06034308949900538 0\n0.9303430894990053 0\n0.8106861789980108 0.27157731124570517\n1.6806861789980108 1.3515773112457052\n[0.42057395 0.55626713 0.4016764  0.1154034 ]\n"
     ]
    }
   ],
   "source": [
    "yh = np.array([])\n",
    "for i in [x1,x2,x3,x4]:\n",
    "    y_hat, a1, a2, a3, h1, h2 = forward(w1,b1,wy,by,i)\n",
    "    #print(forward(w,b,wy,by,i))\n",
    "    print(h1,h2)\n",
    "    yh = np.append(yh,y_hat)\n",
    "print(yh)"
   ]
  },
  {
   "cell_type": "code",
   "execution_count": 821,
   "metadata": {},
   "outputs": [
    {
     "output_type": "stream",
     "name": "stdout",
     "text": [
      "2.1669559196840993\n"
     ]
    }
   ],
   "source": [
    "print(cross_entropy_loss(y,yh))"
   ]
  }
 ]
}